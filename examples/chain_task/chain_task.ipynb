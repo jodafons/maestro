{
 "cells": [
  {
   "cell_type": "markdown",
   "id": "89b79565-75e8-4bdf-89a3-b2f9cd7c2e97",
   "metadata": {},
   "source": [
    "# Chain of tasks:"
   ]
  },
  {
   "cell_type": "code",
   "execution_count": 1,
   "id": "b9e07cd2-a387-4b28-896d-591affa5e893",
   "metadata": {},
   "outputs": [],
   "source": [
    "%config InlineBackend.figure_format = 'retina'\n",
    "%load_ext autoreload\n",
    "%autoreload 2"
   ]
  },
  {
   "cell_type": "code",
   "execution_count": 2,
   "id": "6da9d99a-391e-4c89-a30e-62c7562a1bce",
   "metadata": {},
   "outputs": [],
   "source": [
    "import os, json\n",
    "from maestro.api import APIClient, Provider\n",
    "from maestro.api import Dataset, Image, Task, Group\n",
    "from maestro.schemas import TaskInputs"
   ]
  },
  {
   "cell_type": "code",
   "execution_count": 3,
   "id": "eb4c4ce4-1e46-41ef-8693-23efe38d49e2",
   "metadata": {},
   "outputs": [],
   "source": [
    "token=\"fcad6b3734b74e7e901c58903dc416f8c5029cf224714f518f3f04ac379d7b7a\"\n",
    "host=\"http://caloba51.lps.ufrj.br:7000\"\n",
    "basepath = os.getcwd()"
   ]
  },
  {
   "cell_type": "markdown",
   "id": "6d96e340-4e9c-416d-96b4-212d7994e942",
   "metadata": {},
   "source": [
    "## Create remote session:"
   ]
  },
  {
   "cell_type": "code",
   "execution_count": 4,
   "id": "52266cd8-30a1-48a1-9372-3f9d4cc20adf",
   "metadata": {},
   "outputs": [],
   "source": [
    "provider = Provider(host=host, token=token)"
   ]
  },
  {
   "cell_type": "markdown",
   "id": "3b6cb87c-ee1d-4cde-bab1-1a6f24129641",
   "metadata": {},
   "source": [
    "## create the dataset:"
   ]
  },
  {
   "cell_type": "code",
   "execution_count": 5,
   "id": "e78ea50e-c913-44ea-8789-bb7d2ef5cea7",
   "metadata": {},
   "outputs": [],
   "source": [
    "dataset_evt = Dataset(name=\"user.joao.pinto.mc25_13TeV.JF17.EVT.r1000\")"
   ]
  },
  {
   "cell_type": "code",
   "execution_count": 6,
   "id": "d4aa6bfc-7cd1-4e18-b5b4-f3015afccf98",
   "metadata": {},
   "outputs": [
    {
     "name": "stderr",
     "output_type": "stream",
     "text": [
      "\u001b[32m2025-03-28 08:45:25.778\u001b[0m | \u001b[34m\u001b[1mDEBUG   \u001b[0m | \u001b[36mmaestro.api.rest.dataset\u001b[0m:\u001b[36mcreate\u001b[0m:\u001b[36m104\u001b[0m - \u001b[34m\u001b[1mReceived dataset_id: 8164a3e141d2\u001b[0m\n"
     ]
    },
    {
     "data": {
      "text/plain": [
       "'8164a3e141d2'"
      ]
     },
     "execution_count": 6,
     "metadata": {},
     "output_type": "execute_result"
    }
   ],
   "source": [
    "dataset_evt.create()"
   ]
  },
  {
   "cell_type": "code",
   "execution_count": 8,
   "id": "41532b12-c2ee-4294-934c-3a6bad67c572",
   "metadata": {},
   "outputs": [
    {
     "name": "stderr",
     "output_type": "stream",
     "text": [
      "uploading file...: 100%|██████████████████████████████████████████| 200/200 [00:20<00:00,  9.86it/s]\n"
     ]
    },
    {
     "data": {
      "text/plain": [
       "True"
      ]
     },
     "execution_count": 8,
     "metadata": {},
     "output_type": "execute_result"
    }
   ],
   "source": [
    "path='/mnt/cern_data/joao.pinto/lorenzetti/mc25_13TeV/user.joao.pinto.mc25_13TeV.JF17.EVT.r1000'\n",
    "dataset_evt.upload(path,as_link=True)"
   ]
  },
  {
   "cell_type": "code",
   "execution_count": 9,
   "id": "f71e4bbe-990b-476e-beec-7b03c92eb3b4",
   "metadata": {},
   "outputs": [
    {
     "name": "stdout",
     "output_type": "stream",
     "text": [
      "Dataset name : user.joao.pinto.mc25_13TeV.JF17.EVT.r1000\n",
      "dataset id   : 8164a3e141d2\n",
      "+-------------------+----------------------------------+\n",
      "| filename          | md5                              |\n",
      "|-------------------+----------------------------------|\n",
      "| JF17.EVT.12.root  | 1a074360a5b1a0e653fb24ead7c0b394 |\n",
      "| JF17.EVT.8.root   | a738e06582a86729aa7e9341919c4efa |\n",
      "| JF17.EVT.21.root  | 8821839c78859aad7a1c53104239c616 |\n",
      "| JF17.EVT.7.root   | b58f9c61f57f6e88400625e660f8bcac |\n",
      "| JF17.EVT.9.root   | e2a581e5753b60113a2e60777c67af44 |\n",
      "| JF17.EVT.0.root   | ba198b3c193370bfe696e3470788e04c |\n",
      "| JF17.EVT.30.root  | 44e047b166f5ee4dfbc22aa593860fb3 |\n",
      "| JF17.EVT.6.root   | a80d28c21f67b2691a5f8e312a695ce5 |\n",
      "| JF17.EVT.23.root  | b9cf683cc90b6a87d1ed4f53b05ddc80 |\n",
      "| JF17.EVT.10.root  | 098a5f15cda05729d9ea3bd47af5febf |\n",
      "| JF17.EVT.38.root  | f097d5fccf8d2de114da6832b19887e2 |\n",
      "| JF17.EVT.4.root   | 2bdb0b8fdf75994eadea77bed48c0607 |\n",
      "| JF17.EVT.24.root  | 2de4b2d88e6ae07f75bc7db2ab857932 |\n",
      "| JF17.EVT.19.root  | 3c13e832aa000f1a8346d299acbc9738 |\n",
      "| JF17.EVT.18.root  | 3985c54e34818c00ab4bd7c56fb5fe5f |\n",
      "| JF17.EVT.14.root  | d8630368a6d47d009d7173d7e34a0096 |\n",
      "| JF17.EVT.3.root   | 5c0a894a560b45912b3baa8c2cfb5cb1 |\n",
      "| JF17.EVT.1.root   | 20fce1f322c0a91179c7525d7facba7d |\n",
      "| JF17.EVT.29.root  | ad5b3cb791b06496d5cf84a34b472010 |\n",
      "| JF17.EVT.15.root  | d6fab05c226de8ae2876e5a5803468e9 |\n",
      "| JF17.EVT.34.root  | 50abeed052bf5d21de2a02d3c1f5aacb |\n",
      "| JF17.EVT.32.root  | 31259370e110484698d8b76df33caf38 |\n",
      "| JF17.EVT.26.root  | 7360bc989cb64602d8d70f64d2cd74b9 |\n",
      "| JF17.EVT.16.root  | 9f3869fc7f7ffd2c7d312b580c4492e1 |\n",
      "| JF17.EVT.25.root  | 303c711a15227fee622625d8477f1872 |\n",
      "| JF17.EVT.39.root  | b0ebe8cba94591ecc95e78b74062850d |\n",
      "| JF17.EVT.35.root  | 5e401123136cd895ca9951b81e9d6f12 |\n",
      "| JF17.EVT.13.root  | e440d3feb429c8f169ae0a2451e5d808 |\n",
      "| JF17.EVT.31.root  | 830c073e4d6f13824c4622efbc51973b |\n",
      "| JF17.EVT.20.root  | ba6464d8806f0da024161ef87e39b8a7 |\n",
      "| JF17.EVT.27.root  | e4a3b36b4a9469553967336a4361d0b7 |\n",
      "| JF17.EVT.22.root  | aa9975feb39c5c6161272de00907c32b |\n",
      "| JF17.EVT.36.root  | d1c9168cfcae69c9d05199c106d6fcbb |\n",
      "| JF17.EVT.28.root  | 24ad0f0690b59ce9bbb1c359558b3f3f |\n",
      "| JF17.EVT.33.root  | 1729375a185ea8540e34b24edd4ac613 |\n",
      "| JF17.EVT.37.root  | 1f9837a26ee073df979a55aff244bbd8 |\n",
      "| JF17.EVT.2.root   | e66d83ba6130008c7c6a6620cc1d7142 |\n",
      "| JF17.EVT.11.root  | 998a3e200dcff303016cd490a6a512b8 |\n",
      "| JF17.EVT.5.root   | 459c45c53804ac10e0aaa85a4d6bc79f |\n",
      "| JF17.EVT.17.root  | 0194286e8f4cffdc8333af491a818b33 |\n",
      "| JF17.EVT.40.root  | 0ad5b57a73c5d682d40dfb5e5af684b0 |\n",
      "| JF17.EVT.41.root  | 0ef7386376e6d5dc2cc7299b48f7240a |\n",
      "| JF17.EVT.42.root  | 7a58051f128af73e7b7a40a24b9d0686 |\n",
      "| JF17.EVT.43.root  | ab62cc2b075732ef5f72bd87c0f286d9 |\n",
      "| JF17.EVT.44.root  | 84520bc7f65460a6e7ae551687825a1a |\n",
      "| JF17.EVT.45.root  | 6098c3d67b88e2b9eb1f7ab86cad9190 |\n",
      "| JF17.EVT.46.root  | 9e749c5b336aa5dd951e8e3623681a61 |\n",
      "| JF17.EVT.47.root  | c07748bf448cd6a264ad7c27c0d15819 |\n",
      "| JF17.EVT.48.root  | ae5004ee6e198e8e1623072157559099 |\n",
      "| JF17.EVT.49.root  | 7a32a6e9ed6fed16a71d9ea5f7d4c4da |\n",
      "| JF17.EVT.50.root  | fe09a9ce61925135a615fdc7ac258333 |\n",
      "| JF17.EVT.51.root  | 9cef1758fe1d6bb5b56bdabde76237b9 |\n",
      "| JF17.EVT.52.root  | 50b419e1f289f7e7c0c22786f175c297 |\n",
      "| JF17.EVT.53.root  | 8cc04a28df4e0b5737e7f6a6030a03a6 |\n",
      "| JF17.EVT.54.root  | 9dd204d333e6d6195e379743eda2af9e |\n",
      "| JF17.EVT.55.root  | 7bccabc7c3920386e87dd3cc706ced54 |\n",
      "| JF17.EVT.56.root  | ba1ddf00c454a479cd43e7fa078e617c |\n",
      "| JF17.EVT.57.root  | 6ac50528714c2bae451887fe9d68e3a2 |\n",
      "| JF17.EVT.58.root  | 9d4ac0dd14f0fe17d84d042d32c9d7f9 |\n",
      "| JF17.EVT.59.root  | 923647beefdfecceb63768ab3db47b4b |\n",
      "| JF17.EVT.60.root  | a87c80e270940d05a89d592b5b0a6017 |\n",
      "| JF17.EVT.61.root  | 2d73220beae7658cfbb02658b328dfc2 |\n",
      "| JF17.EVT.62.root  | e11a5a5f3328d9ea2eb29596de5c016d |\n",
      "| JF17.EVT.63.root  | 11c39522bcb6fa9507983bbe41b28ce7 |\n",
      "| JF17.EVT.66.root  | f5134e541c95433adae07c0adad27e75 |\n",
      "| JF17.EVT.65.root  | 23c6da491f5ba6c30b6754861bce1a84 |\n",
      "| JF17.EVT.64.root  | a659ded97d12f57cf5ce913f2a1d19d7 |\n",
      "| JF17.EVT.67.root  | a89729160578ba011a45ff3898c6209f |\n",
      "| JF17.EVT.69.root  | 9818347b93a3f63b7dbfd2d4743f26d9 |\n",
      "| JF17.EVT.70.root  | aa1d43a625c610a8aaf5baea3a3bbc71 |\n",
      "| JF17.EVT.68.root  | a18dc9def432386f88c7e96196411ad8 |\n",
      "| JF17.EVT.71.root  | 4117bcba294ce9a1e6f19c8c45ad7262 |\n",
      "| JF17.EVT.73.root  | 2fadfb4dafb540a7d281409d9488ec94 |\n",
      "| JF17.EVT.72.root  | 2acd432b034071d2ce1c5ca3b7aefd73 |\n",
      "| JF17.EVT.74.root  | 5b775725e42f1c312836ee69417e37cf |\n",
      "| JF17.EVT.75.root  | 57cff82599e4bee77e0b535b6623a410 |\n",
      "| JF17.EVT.76.root  | 7dcb57b0454721610d707e5ead458656 |\n",
      "| JF17.EVT.77.root  | fd18244b93ed9bba1e0d9e794abe47fa |\n",
      "| JF17.EVT.78.root  | 139d91f0dd4c2df21fb80581a6c33b93 |\n",
      "| JF17.EVT.79.root  | 2ca5260961467b97aaf7875768634643 |\n",
      "| JF17.EVT.80.root  | 11035accb483d492c4044579e8c0e98a |\n",
      "| JF17.EVT.81.root  | 6bc84f9cb172a7af24ac4c8803cd783f |\n",
      "| JF17.EVT.82.root  | 9891be4bf45bdae7b3ac8f6395910484 |\n",
      "| JF17.EVT.83.root  | 04954ec71246b24aee240ddf72bbfdaa |\n",
      "| JF17.EVT.84.root  | 9def2f27269f4104cec4c19e0d6e4b66 |\n",
      "| JF17.EVT.85.root  | 0405192b87f15a4fe2f54f223f8921d5 |\n",
      "| JF17.EVT.86.root  | 55a4ff92664710ce1fd61a6de0ad07e7 |\n",
      "| JF17.EVT.87.root  | ddd8c0b5e01c40e8292e7b712faebee6 |\n",
      "| JF17.EVT.88.root  | f2f553d079e1fd7e9f5c5c7920e85bfb |\n",
      "| JF17.EVT.89.root  | 9fb7a4cb705d3f906f8585ff429ce7c5 |\n",
      "| JF17.EVT.90.root  | b3bd03360a91302c85b3f1fc028da53a |\n",
      "| JF17.EVT.92.root  | f7ebdc01a622af8eb5defaaaeb96aa32 |\n",
      "| JF17.EVT.91.root  | 7e22f44b734ee09933a20d3b92bccb26 |\n",
      "| JF17.EVT.93.root  | 5ebaf17c9f3e4bdfa480f938615b0b3f |\n",
      "| JF17.EVT.94.root  | b304faa32da809a9519a5046cb71b3cd |\n",
      "| JF17.EVT.95.root  | 0b7e0a5027c18256f341ed2884b4c9f1 |\n",
      "| JF17.EVT.97.root  | 508e9dd996d9c6a451fb14a96f427053 |\n",
      "| JF17.EVT.96.root  | 46178b1d87db516bcaea2a721df39d55 |\n",
      "| JF17.EVT.98.root  | 7e2800e2471db9b5d5b7dbaab97d5a1c |\n",
      "| JF17.EVT.99.root  | 450e0716a3aa3bce3ea51e1c46dc6a67 |\n",
      "| JF17.EVT.100.root | 09a0cda356e0968952b0e423868d22e2 |\n",
      "| JF17.EVT.101.root | 9d2d8090bf5d241d4bbe87c30f7cdd5b |\n",
      "| JF17.EVT.102.root | 189f76eca403a5a2b37b46626aed7786 |\n",
      "| JF17.EVT.104.root | 08288f4d5832062736c74671c3a02893 |\n",
      "| JF17.EVT.103.root | ce2495431e6445e87428abc442005858 |\n",
      "| JF17.EVT.105.root | 0ea550f5769f1f47fdc840ca89987ced |\n",
      "| JF17.EVT.106.root | 95074bfeb748071db679b8036850d7b8 |\n",
      "| JF17.EVT.107.root | 6eb7374716f937352c024dffa26810a7 |\n",
      "| JF17.EVT.108.root | 81571219dc4f5884b8d36562efd24517 |\n",
      "| JF17.EVT.109.root | 35d5a67dba519925c3601d1cb5b075be |\n",
      "| JF17.EVT.110.root | 0a1145d0d115808d8419eb23e7b0d629 |\n",
      "| JF17.EVT.111.root | 6ed372d0379eb1cf632aa68fbd70f85d |\n",
      "| JF17.EVT.112.root | 43209eac4ccf6a27451ea470735812b8 |\n",
      "| JF17.EVT.113.root | 24b1923e5723cc1de7448fb637f9fb46 |\n",
      "| JF17.EVT.114.root | 4c4eb6aa981867d4a8b11d5dc1f2405e |\n",
      "| JF17.EVT.115.root | 251713ae4fea7f9266cd8cbfad40c951 |\n",
      "| JF17.EVT.116.root | 6af986da768269d26f9f20129dcda14d |\n",
      "| JF17.EVT.117.root | 1ad53d634078c36884b22993e98da3ad |\n",
      "| JF17.EVT.118.root | 95416f5dc54f913f48645c41f4cda061 |\n",
      "| JF17.EVT.119.root | a56b7a817f2d9305d2abd68d8fe519c0 |\n",
      "| JF17.EVT.120.root | a163c7db0b31dece76267ecb1d39a2dd |\n",
      "| JF17.EVT.121.root | 484c35b997d4fa44588e8418322d7a8d |\n",
      "| JF17.EVT.122.root | b607c23779ca2578acf6dfa18052606e |\n",
      "| JF17.EVT.123.root | 767bf30d6e37e1b899c1f7ee8ecb0705 |\n",
      "| JF17.EVT.124.root | 1ccfbd9ef9c05adce5f02e0ce4f404e8 |\n",
      "| JF17.EVT.125.root | 39987cea48eed5132ae6ff79c80d8dd5 |\n",
      "| JF17.EVT.126.root | cead9bf6787509121f799185a8f46d1c |\n",
      "| JF17.EVT.128.root | 5991f7c98b0b52aa98199ddf8a7dc1bc |\n",
      "| JF17.EVT.127.root | 41509836b8ed051be6d9f8225da24c5c |\n",
      "| JF17.EVT.130.root | efb6dfc26e691277d55ec858012375bf |\n",
      "| JF17.EVT.129.root | 1f482f2e1279347d2dcb5b10996f896f |\n",
      "| JF17.EVT.132.root | d66376455d90c00488c8cb8e02f78611 |\n",
      "| JF17.EVT.131.root | 7530e50f4723a0a931ff8ad3675194ae |\n",
      "| JF17.EVT.133.root | cf200e0c086262963fba6082afb2c3f1 |\n",
      "| JF17.EVT.134.root | 6335af2b8a575f739b4202bd540445db |\n",
      "| JF17.EVT.138.root | c48da3881dd975d4abfba7465dd8a6e6 |\n",
      "| JF17.EVT.135.root | 2716c281932b262fd53b484376d4b617 |\n",
      "| JF17.EVT.136.root | d96db574c08e187baf58eaba8c970978 |\n",
      "| JF17.EVT.137.root | 51925809230cec09c716bfaf204b0f15 |\n",
      "| JF17.EVT.139.root | 338c9abc061c041a515974158eebf201 |\n",
      "| JF17.EVT.140.root | e36ba9204ee829c286867b65023a23e8 |\n",
      "| JF17.EVT.141.root | 52d04384f768dd3c11e5d7915882dd7e |\n",
      "| JF17.EVT.142.root | 208f8cb180ebc6085b56c16fcc5f8118 |\n",
      "| JF17.EVT.143.root | af4c49dcbb49931e5e5719bc222f0f26 |\n",
      "| JF17.EVT.145.root | b29c833d08c7b07e6182b0a89f7f2e6c |\n",
      "| JF17.EVT.144.root | a49df8f54e2c0bbd454b18fdb13250d0 |\n",
      "| JF17.EVT.146.root | cf6227d68cad0b8e0ce45fcba3a73245 |\n",
      "| JF17.EVT.147.root | ba84632034cea97ec4c9c83c2d85286f |\n",
      "| JF17.EVT.148.root | 046884083f3999933c8a86c8eedaa058 |\n",
      "| JF17.EVT.149.root | ff03747a250a3766df16cc34b699b23a |\n",
      "| JF17.EVT.150.root | 4d0605db1ab8c222c59c1d862ed92028 |\n",
      "| JF17.EVT.151.root | 6e73596f99d670c25fff5f4984f12bcd |\n",
      "| JF17.EVT.152.root | e588a3661c1311e0c8183c2b6eb52b40 |\n",
      "| JF17.EVT.153.root | 1ea8c6445cbfe26ad4364b734c546bdf |\n",
      "| JF17.EVT.154.root | 8e6e5589d1d013b2a511abb34a8057d0 |\n",
      "| JF17.EVT.155.root | a679282c8424f7db3325fd1a338ed1b7 |\n",
      "| JF17.EVT.156.root | e0b90175352fbe4ede1bdf6797c00a02 |\n",
      "| JF17.EVT.158.root | 37c363b12f1a731d2b4aa959925478ec |\n",
      "| JF17.EVT.157.root | 8937b3476e616c13c23d2cb9b48126ef |\n",
      "| JF17.EVT.159.root | ad450a5f0f70d49472fb99c8f135b682 |\n",
      "| JF17.EVT.160.root | 14ead4d80d93db7c81ecc4f2853cec66 |\n",
      "| JF17.EVT.161.root | e215a0faac39e0eca9247b1e9bd50eaa |\n",
      "| JF17.EVT.162.root | c9ba2e105f86d7ee933d9fad6800f846 |\n",
      "| JF17.EVT.163.root | 488e0bb9e00a0653fd7b64cbe0586852 |\n",
      "| JF17.EVT.164.root | 62e224742243964773725fe1b3faec56 |\n",
      "| JF17.EVT.166.root | 4a7212f07e30555a2d90445a7b2cdac2 |\n",
      "| JF17.EVT.165.root | 8ed3ede507473907462ea8c757e61ce4 |\n",
      "| JF17.EVT.167.root | 139acc7b6c8983f8e60ae84cdd33248d |\n",
      "| JF17.EVT.168.root | e7ffd5335249017a23dbf9625e88eaee |\n",
      "| JF17.EVT.169.root | 920645f2237f15f69c39c0210f1dbb0f |\n",
      "| JF17.EVT.170.root | a083c14d3ab9bb114e3087b96618ea51 |\n",
      "| JF17.EVT.171.root | 356909e02f2874eebbe7bf561bc1cf2d |\n",
      "| JF17.EVT.172.root | 0165b932e7a0dea49671870395a250ec |\n",
      "| JF17.EVT.173.root | 7727c8394cb456c4f9b52d9c927a6f80 |\n",
      "| JF17.EVT.174.root | f11b715a323a5242f2beaa9eefffc585 |\n",
      "| JF17.EVT.175.root | c07df7a94c2cc41c71ad2d4449c056f5 |\n",
      "| JF17.EVT.176.root | ed8a105053615e4aafa69dcbd499f3be |\n",
      "| JF17.EVT.177.root | 5cb528749be1e96f40cd670be7d64e7b |\n",
      "| JF17.EVT.178.root | 23d600476876b27fdc8a1589fb0a115a |\n",
      "| JF17.EVT.179.root | 71787ce099a747409f0ed4072e35011c |\n",
      "| JF17.EVT.181.root | 98b3978b5bfafb1b8572bac8fa75d56a |\n",
      "| JF17.EVT.180.root | 5f690f70b22ec6eceeb581879d47fd9c |\n",
      "| JF17.EVT.182.root | 354fcae5bfc616854f0e879fb7df27e7 |\n",
      "| JF17.EVT.183.root | e96fde41f86c13b6d58221897bb2ad86 |\n",
      "| JF17.EVT.184.root | 8b9561ba78eff4c433f4a43df4cdaaa4 |\n",
      "| JF17.EVT.185.root | 6c236697779cfbdac65f8da3f972b2a0 |\n",
      "| JF17.EVT.186.root | 754066ebea11924137c28fc6b43f76fb |\n",
      "| JF17.EVT.187.root | 10cc04a8e623248c51bea56bfc64dfb8 |\n",
      "| JF17.EVT.188.root | d53acd81d6c2010dc3588d844250dafc |\n",
      "| JF17.EVT.189.root | 14db2034ae17cd04797405f2ad267769 |\n",
      "| JF17.EVT.190.root | fae3e6e97dcf949cf31d4d7a06fc001b |\n",
      "| JF17.EVT.192.root | 2fc299fc24b28e2797cb06d6b4175d6a |\n",
      "| JF17.EVT.191.root | a5a1e1fa73115c0182098ac2f9b5a1e6 |\n",
      "| JF17.EVT.193.root | 74f1fe25e5373dfb9d74dfb04a79cf68 |\n",
      "| JF17.EVT.194.root | 4293822723bb19f88278033acc26ba01 |\n",
      "| JF17.EVT.195.root | 7e470929da232190165e556f642dec91 |\n",
      "| JF17.EVT.196.root | 602f424ea448a18baa93b880a33fbe9e |\n",
      "| JF17.EVT.197.root | 3f4bcd5ec29e57b18ca766ad32a3d976 |\n",
      "| JF17.EVT.198.root | c5451503b10bcb04622c1204a1e000c6 |\n",
      "| JF17.EVT.199.root | 4ab2b9d14d446a0fcbb8586d9a461396 |\n",
      "+-------------------+----------------------------------+\n"
     ]
    }
   ],
   "source": [
    "dataset_evt.print()"
   ]
  },
  {
   "cell_type": "markdown",
   "id": "2d4ecfe2-2868-4b6d-bf50-ed9029471f66",
   "metadata": {},
   "source": [
    "## Create the image:"
   ]
  },
  {
   "cell_type": "code",
   "execution_count": 10,
   "id": "7f8cac18-3631-49c6-8e68-c2eb916dee0b",
   "metadata": {},
   "outputs": [],
   "source": [
    "image = Image(\"joao.pinto/lorenzetti_latest\", \"/mnt/cern_data/joao.pinto/images/lorenzetti_latest.sif\", as_link=True)"
   ]
  },
  {
   "cell_type": "markdown",
   "id": "546f28f1-33a0-4ef8-8298-faa95d6e323d",
   "metadata": {},
   "source": [
    "## Create the task:"
   ]
  },
  {
   "cell_type": "code",
   "execution_count": 16,
   "id": "244c3bbd-9775-41bb-8678-2e111673f991",
   "metadata": {},
   "outputs": [
    {
     "name": "stdout",
     "output_type": "stream",
     "text": [
      "stage 1\n",
      "task    : user.joao.pinto.mc25_13TeV.JF17.r1000_stage_1\n",
      "image   : joao.pinto/lorenzetti_latest\n",
      "input   : user.joao.pinto.mc25_13TeV.JF17.EVT.r1000\n",
      "command : source /home/joao.pinto/git_repos/lorenzetti/build/lzt_setup && simu_trf.py -i %IN -o %OUT\n",
      "stage 2\n",
      "task    : user.joao.pinto.mc25_13TeV.JF17.r1000_stage_2\n",
      "image   : joao.pinto/lorenzetti_latest\n",
      "input   : user.joao.pinto.mc25_13TeV.JF17.r1000_stage_1.result.HIT.root\n",
      "command : source /home/joao.pinto/git_repos/lorenzetti/build/lzt_setup && digit_trf.py -i %IN -o %OUT\n",
      "stage 3\n",
      "task    : user.joao.pinto.mc25_13TeV.JF17.r1000_stage_3\n",
      "image   : joao.pinto/lorenzetti_latest\n",
      "input   : user.joao.pinto.mc25_13TeV.JF17.r1000_stage_2.result.ESD.root\n",
      "command : source /home/joao.pinto/git_repos/lorenzetti/build/lzt_setup && reco_trf.py -i %IN -o %OUT\n",
      "stage 4\n",
      "task    : user.joao.pinto.mc25_13TeV.JF17.r1000_stage_4\n",
      "image   : joao.pinto/lorenzetti_latest\n",
      "input   : user.joao.pinto.mc25_13TeV.JF17.r1000_stage_3.result.AOD.root\n",
      "command : source /home/joao.pinto/git_repos/lorenzetti/build/lzt_setup && ntuple_trf.py -i %IN -o %OUT\n"
     ]
    }
   ],
   "source": [
    "def production(name, partition, dataset):\n",
    "    GB=1024\n",
    "    build_dir = '/home/joao.pinto/git_repos/lorenzetti/build'\n",
    "    preexec   = f\"source {build_dir}/lzt_setup\"\n",
    "\n",
    "    task_stage_1          = TaskInputs( name=name+\"_stage_1\", image='joao.pinto/lorenzetti_latest' )\n",
    "    task_stage_1.input    = dataset_evt.name\n",
    "    task_stage_1.command  = f\"{preexec} && simu_trf.py -i %IN -o %OUT\"\n",
    "    task_stage_1.outputs  = {\"OUT\":'result.HIT.root'}\n",
    "    task_stage_1.envs     = {}\n",
    "    task_stage_1.memory_mb=20*GB\n",
    "    task_stage_1.cpu_cores=10\n",
    "    task_stage_1.partition=partition\n",
    "    \n",
    "    dataset_hit_name      = task_stage_1.name+\".\"+task_stage_1.outputs[\"OUT\"]\n",
    "    task_stage_2          = TaskInputs( name=name+\"_stage_2\", image='joao.pinto/lorenzetti_latest' )\n",
    "    task_stage_2.input    = dataset_hit_name\n",
    "    task_stage_2.command  = f\"{preexec} && digit_trf.py -i %IN -o %OUT\"\n",
    "    task_stage_2.outputs  = {\"OUT\":'result.ESD.root'}\n",
    "    task_stage_2.envs     = {}\n",
    "    task_stage_2.memory_mb=10*GB\n",
    "    task_stage_2.cpu_cores=4\n",
    "    task_stage_2.partition=partition\n",
    "\n",
    "    \n",
    "    dataset_esd_name      = task_stage_2.name+\".\"+task_stage_2.outputs[\"OUT\"]\n",
    "    task_stage_3          = TaskInputs( name=name+\"_stage_3\", image='joao.pinto/lorenzetti_latest' )\n",
    "    task_stage_3.input    = dataset_esd_name\n",
    "    task_stage_3.command  = f\"{preexec} && reco_trf.py -i %IN -o %OUT\"\n",
    "    task_stage_3.outputs  = {\"OUT\":'result.AOD.root'}\n",
    "    task_stage_3.envs     = {}  \n",
    "    task_stage_3.memory_mb=10*GB\n",
    "    task_stage_3.cpu_cores=4\n",
    "    task_stage_3.partition=partition\n",
    "\n",
    "    \n",
    "    dataset_aod_name      = task_stage_3.name+\".\"+task_stage_3.outputs[\"OUT\"]\n",
    "    task_stage_4          = TaskInputs( name=name+\"_stage_4\", image='joao.pinto/lorenzetti_latest' )\n",
    "    task_stage_4.input    = dataset_aod_name\n",
    "    task_stage_4.command  = f\"{preexec} && ntuple_trf.py -i %IN -o %OUT\"\n",
    "    task_stage_4.outputs  = {\"OUT\":'result.NTUPLE.root'}\n",
    "    task_stage_4.envs     = {}  \n",
    "    task_stage_4.memory_mb=10*GB\n",
    "    task_stage_4.cpu_cores=4\n",
    "    task_stage_4.partition=partition\n",
    "    \n",
    "    print(\"stage 1\")\n",
    "    print(f\"task    : {task_stage_1.name}\")\n",
    "    print(f\"image   : {task_stage_1.image}\")\n",
    "    print(f\"input   : {task_stage_1.input}\")\n",
    "    print(f\"command : {task_stage_1.command}\")\n",
    "\n",
    "    print(\"stage 2\")\n",
    "    print(f\"task    : {task_stage_2.name}\")\n",
    "    print(f\"image   : {task_stage_2.image}\")\n",
    "    print(f\"input   : {task_stage_2.input}\")\n",
    "    print(f\"command : {task_stage_2.command}\")\n",
    "\n",
    "    print(\"stage 3\")\n",
    "    print(f\"task    : {task_stage_3.name}\")\n",
    "    print(f\"image   : {task_stage_3.image}\")\n",
    "    print(f\"input   : {task_stage_3.input}\")\n",
    "    print(f\"command : {task_stage_3.command}\")\n",
    "\n",
    "    print(\"stage 4\")\n",
    "    print(f\"task    : {task_stage_4.name}\")\n",
    "    print(f\"image   : {task_stage_4.image}\")\n",
    "    print(f\"input   : {task_stage_4.input}\")\n",
    "    print(f\"command : {task_stage_4.command}\")\n",
    "    \n",
    "    \n",
    "    return [task_stage_1,task_stage_2,task_stage_3,task_stage_4]\n",
    "\n",
    "\n",
    "task_name = 'user.joao.pinto.mc25_13TeV.JF17.r1000'\n",
    "partition = 'cpu-large'\n",
    "tasks     = production(task_name, partition, dataset_evt) "
   ]
  },
  {
   "cell_type": "code",
   "execution_count": 18,
   "id": "6e21a749-93c5-4070-8013-c588cfd31465",
   "metadata": {},
   "outputs": [],
   "source": [
    "my_task=provider.create(tasks)"
   ]
  },
  {
   "cell_type": "code",
   "execution_count": 19,
   "id": "76447a09-fb7b-420d-88a6-24156318595d",
   "metadata": {},
   "outputs": [
    {
     "name": "stdout",
     "output_type": "stream",
     "text": [
      "+------------------------------+--------------+------------+-----------+-----------+----------+--------+----------+----------+-------------+-----------+\n",
      "| taskname                     |   registered |   assigned |   pending |   running |   failed |   kill |   killed |   broken |   completed | Status    |\n",
      "|------------------------------+--------------+------------+-----------+-----------+----------+--------+----------+----------+-------------+-----------|\n",
      "| user.joao.pinto.simple_task3 |            0 |          0 |         0 |         0 |        0 |      0 |        0 |        0 |          10 | completed |\n",
      "+------------------------------+--------------+------------+-----------+-----------+----------+--------+----------+----------+-------------+-----------+\n"
     ]
    }
   ],
   "source": [
    "my_task.print()"
   ]
  },
  {
   "cell_type": "code",
   "execution_count": 20,
   "id": "ae31dbaa-ceb7-48ac-a609-70b31458e71a",
   "metadata": {},
   "outputs": [
    {
     "name": "stdout",
     "output_type": "stream",
     "text": [
      "+--------------+------------------------------------------+---------+--------+\n",
      "| id           | name                                     |   files | type   |\n",
      "|--------------+------------------------------------------+---------+--------|\n",
      "| 6468a74db763 | user.joao.pinto.dataset                  |      10 | files  |\n",
      "| 55f87ba95f53 | joao.pinto/python3.10                    |       1 | image  |\n",
      "| 4bf61d1215df | user.joao.pinto.simple_task3.result.json |      10 | files  |\n",
      "+--------------+------------------------------------------+---------+--------+\n"
     ]
    }
   ],
   "source": [
    "provider.print_datasets()"
   ]
  },
  {
   "cell_type": "code",
   "execution_count": 21,
   "id": "50ff9b2d-9227-48d8-834f-1a671ef9aaf3",
   "metadata": {},
   "outputs": [
    {
     "name": "stdout",
     "output_type": "stream",
     "text": [
      "+--------------+------------------------------+-----------+\n",
      "| id           | name                         | type      |\n",
      "|--------------+------------------------------+-----------|\n",
      "| 0f789a0f2c04 | user.joao.pinto.simple_task3 | completed |\n",
      "+--------------+------------------------------+-----------+\n"
     ]
    }
   ],
   "source": [
    "provider.print_tasks()"
   ]
  },
  {
   "cell_type": "code",
   "execution_count": null,
   "id": "f644261b-7d63-4ff5-bcfc-48600fa4e669",
   "metadata": {},
   "outputs": [],
   "source": []
  }
 ],
 "metadata": {
  "kernelspec": {
   "display_name": "Python 3 (ipykernel)",
   "language": "python",
   "name": "python3"
  },
  "language_info": {
   "codemirror_mode": {
    "name": "ipython",
    "version": 3
   },
   "file_extension": ".py",
   "mimetype": "text/x-python",
   "name": "python",
   "nbconvert_exporter": "python",
   "pygments_lexer": "ipython3",
   "version": "3.9.2"
  }
 },
 "nbformat": 4,
 "nbformat_minor": 5
}
