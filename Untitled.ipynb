{
 "cells": [
  {
   "cell_type": "code",
   "execution_count": 1,
   "id": "7f2266c9-da2a-4d0e-a72d-0810198475d9",
   "metadata": {},
   "outputs": [],
   "source": [
    "%config InlineBackend.figure_format = 'retina'\n",
    "%load_ext autoreload\n",
    "%autoreload 2"
   ]
  },
  {
   "cell_type": "code",
   "execution_count": 4,
   "id": "facdefc2-d788-410b-a3fb-c9fc7d13393c",
   "metadata": {},
   "outputs": [],
   "source": [
    "import os, json\n",
    "from maestro.api import APIClient, RemoteSession\n",
    "from maestro.api import Dataset"
   ]
  },
  {
   "cell_type": "code",
   "execution_count": 15,
   "id": "886992b5-bc4a-4056-a033-6b5112f7d8dc",
   "metadata": {},
   "outputs": [],
   "source": [
    "token=\"055d59af7aa542f79ef3ada4b4c0118601c204ccb1964978ba0156ebbbb6b24a\"\n",
    "host=\"http://caloba54.lps.ufrj.br:7000\"\n",
    "basepath = os.getcwd()"
   ]
  },
  {
   "cell_type": "code",
   "execution_count": 16,
   "id": "0f538021-617e-4d0a-8647-2e524c3c26be",
   "metadata": {},
   "outputs": [],
   "source": [
    "client = RemoteSession(host=host, token=token)"
   ]
  },
  {
   "cell_type": "code",
   "execution_count": 18,
   "id": "6d8c0f9a-1d12-4d74-8e9a-dfd39c9f37d9",
   "metadata": {},
   "outputs": [],
   "source": [
    "def create_dataset(path, n):\n",
    "    os.makedirs(path, exist_ok=True)\n",
    "    for i in range(n):\n",
    "        with open(f\"{path}/{i}.json\",'w') as f:\n",
    "            d={'i':i}\n",
    "            json.dump(d,f)\n",
    "create_dataset(basepath+\"/DATASET\" , 10)"
   ]
  },
  {
   "cell_type": "code",
   "execution_count": 23,
   "id": "23857faa-f36e-47eb-9be0-5f9eacaea802",
   "metadata": {},
   "outputs": [],
   "source": [
    "ds = Dataset(name=\"user.joao.pinto.dataset\", as)"
   ]
  },
  {
   "cell_type": "code",
   "execution_count": null,
   "id": "e67d9771-83b1-4e0d-949f-bf82319d7272",
   "metadata": {},
   "outputs": [],
   "source": [
    "ds"
   ]
  }
 ],
 "metadata": {
  "kernelspec": {
   "display_name": "Python 3 (ipykernel)",
   "language": "python",
   "name": "python3"
  },
  "language_info": {
   "codemirror_mode": {
    "name": "ipython",
    "version": 3
   },
   "file_extension": ".py",
   "mimetype": "text/x-python",
   "name": "python",
   "nbconvert_exporter": "python",
   "pygments_lexer": "ipython3",
   "version": "3.9.2"
  }
 },
 "nbformat": 4,
 "nbformat_minor": 5
}
