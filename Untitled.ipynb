{
 "cells": [
  {
   "cell_type": "code",
   "execution_count": 1,
   "id": "7f2266c9-da2a-4d0e-a72d-0810198475d9",
   "metadata": {},
   "outputs": [],
   "source": [
    "%config InlineBackend.figure_format = 'retina'\n",
    "%load_ext autoreload\n",
    "%autoreload 2"
   ]
  },
  {
   "cell_type": "code",
   "execution_count": 2,
   "id": "facdefc2-d788-410b-a3fb-c9fc7d13393c",
   "metadata": {},
   "outputs": [],
   "source": [
    "import os, json\n",
    "from maestro.api import APIClient, RemoteSession\n",
    "from maestro.api import Dataset"
   ]
  },
  {
   "cell_type": "code",
   "execution_count": 3,
   "id": "886992b5-bc4a-4056-a033-6b5112f7d8dc",
   "metadata": {},
   "outputs": [],
   "source": [
    "token=\"fcad6b3734b74e7e901c58903dc416f8c5029cf224714f518f3f04ac379d7b7a\"\n",
    "host=\"http://caloba51.lps.ufrj.br:7000\"\n",
    "basepath = os.getcwd()"
   ]
  },
  {
   "cell_type": "code",
   "execution_count": 4,
   "id": "0f538021-617e-4d0a-8647-2e524c3c26be",
   "metadata": {},
   "outputs": [],
   "source": [
    "client = RemoteSession(host=host, token=token)"
   ]
  },
  {
   "cell_type": "code",
   "execution_count": 7,
   "id": "6d8c0f9a-1d12-4d74-8e9a-dfd39c9f37d9",
   "metadata": {},
   "outputs": [],
   "source": [
    "def create_dataset(path, n):\n",
    "    os.makedirs(path, exist_ok=True)\n",
    "    for i in range(n):\n",
    "        with open(f\"{path}/{i}.json\",'w') as f:\n",
    "            d={'i':i}\n",
    "            json.dump(d,f)\n",
    "create_dataset(basepath+\"/DATASET\" , 10)"
   ]
  },
  {
   "cell_type": "code",
   "execution_count": 16,
   "id": "23857faa-f36e-47eb-9be0-5f9eacaea802",
   "metadata": {},
   "outputs": [],
   "source": [
    "ds = Dataset(name=\"user.joao.pinto.dataset_link3\")"
   ]
  },
  {
   "cell_type": "code",
   "execution_count": 17,
   "id": "667b14bb-b150-451e-9b80-ca759c21d848",
   "metadata": {},
   "outputs": [
    {
     "name": "stderr",
     "output_type": "stream",
     "text": [
      "\u001b[32m2025-03-21 11:59:59.702\u001b[0m | \u001b[34m\u001b[1mDEBUG   \u001b[0m | \u001b[36mmaestro.api.rest.dataset\u001b[0m:\u001b[36mcreate\u001b[0m:\u001b[36m110\u001b[0m - \u001b[34m\u001b[1mReceived dataset_id: e5944b2b1bd0\u001b[0m\n"
     ]
    },
    {
     "data": {
      "text/plain": [
       "'e5944b2b1bd0'"
      ]
     },
     "execution_count": 17,
     "metadata": {},
     "output_type": "execute_result"
    }
   ],
   "source": [
    "ds.create()"
   ]
  },
  {
   "cell_type": "code",
   "execution_count": 18,
   "id": "e67d9771-83b1-4e0d-949f-bf82319d7272",
   "metadata": {},
   "outputs": [
    {
     "name": "stderr",
     "output_type": "stream",
     "text": [
      "uploading file...: 100%|████████████████████████████████████████████| 10/10 [00:00<00:00, 10.47it/s]\n"
     ]
    },
    {
     "data": {
      "text/plain": [
       "True"
      ]
     },
     "execution_count": 18,
     "metadata": {},
     "output_type": "execute_result"
    }
   ],
   "source": [
    "ds.upload(f\"{basepath}/DATASET\", as_link=True)"
   ]
  },
  {
   "cell_type": "code",
   "execution_count": 19,
   "id": "1890c4fb-670e-4bfe-a664-93cdb56ab6ac",
   "metadata": {},
   "outputs": [
    {
     "name": "stdout",
     "output_type": "stream",
     "text": [
      "Dataset name : user.joao.pinto.dataset_link3\n",
      "dataset id   : e5944b2b1bd0\n",
      "+------------+----------------------------------+\n",
      "| filename   | md5                              |\n",
      "|------------+----------------------------------|\n",
      "| 8.json     | 0a0b0d9b19fdf42eba5c200bcb6ad6fe |\n",
      "| 5.json     | 3a8805fc5f8b13e8b58c6d9f7fe20295 |\n",
      "| 4.json     | 718d0ead7274bc5edfff3ab6550816c2 |\n",
      "| 1.json     | caaae429dd8b49a9d50e8104c82e3591 |\n",
      "| 3.json     | 812d32203b0c3520838c1602144d9521 |\n",
      "| 0.json     | 39e6c3345cb6c0d889ee4729a7444bd8 |\n",
      "| 6.json     | cf992e953a7541f74ce98705d717c9a3 |\n",
      "| 2.json     | 21df97087ecc1ed9e3660064418c50cb |\n",
      "| 9.json     | 58775acabd1199e19c710faf905964a7 |\n",
      "| 7.json     | 08e2bd33ed44991d02ce9b44d4631464 |\n",
      "+------------+----------------------------------+\n"
     ]
    }
   ],
   "source": [
    "ds.print()"
   ]
  },
  {
   "cell_type": "code",
   "execution_count": 37,
   "id": "53a811f8-fcdf-4ed0-a63c-75d4e5b70084",
   "metadata": {},
   "outputs": [
    {
     "data": {
      "text/plain": [
       "[{'filename': '8.json',\n",
       "  'md5': '0a0b0d9b19fdf42eba5c200bcb6ad6fe',\n",
       "  'filepath': '/home/joao.pinto/git_repos/maestro/DATA/joao.pinto/datasets/user.joao.pinto.dataset_link3/8.json'},\n",
       " {'filename': '5.json',\n",
       "  'md5': '3a8805fc5f8b13e8b58c6d9f7fe20295',\n",
       "  'filepath': '/home/joao.pinto/git_repos/maestro/DATA/joao.pinto/datasets/user.joao.pinto.dataset_link3/5.json'},\n",
       " {'filename': '4.json',\n",
       "  'md5': '718d0ead7274bc5edfff3ab6550816c2',\n",
       "  'filepath': '/home/joao.pinto/git_repos/maestro/DATA/joao.pinto/datasets/user.joao.pinto.dataset_link3/4.json'},\n",
       " {'filename': '1.json',\n",
       "  'md5': 'caaae429dd8b49a9d50e8104c82e3591',\n",
       "  'filepath': '/home/joao.pinto/git_repos/maestro/DATA/joao.pinto/datasets/user.joao.pinto.dataset_link3/1.json'},\n",
       " {'filename': '3.json',\n",
       "  'md5': '812d32203b0c3520838c1602144d9521',\n",
       "  'filepath': '/home/joao.pinto/git_repos/maestro/DATA/joao.pinto/datasets/user.joao.pinto.dataset_link3/3.json'},\n",
       " {'filename': '0.json',\n",
       "  'md5': '39e6c3345cb6c0d889ee4729a7444bd8',\n",
       "  'filepath': '/home/joao.pinto/git_repos/maestro/DATA/joao.pinto/datasets/user.joao.pinto.dataset_link3/0.json'},\n",
       " {'filename': '6.json',\n",
       "  'md5': 'cf992e953a7541f74ce98705d717c9a3',\n",
       "  'filepath': '/home/joao.pinto/git_repos/maestro/DATA/joao.pinto/datasets/user.joao.pinto.dataset_link3/6.json'},\n",
       " {'filename': '2.json',\n",
       "  'md5': '21df97087ecc1ed9e3660064418c50cb',\n",
       "  'filepath': '/home/joao.pinto/git_repos/maestro/DATA/joao.pinto/datasets/user.joao.pinto.dataset_link3/2.json'},\n",
       " {'filename': '9.json',\n",
       "  'md5': '58775acabd1199e19c710faf905964a7',\n",
       "  'filepath': '/home/joao.pinto/git_repos/maestro/DATA/joao.pinto/datasets/user.joao.pinto.dataset_link3/9.json'},\n",
       " {'filename': '7.json',\n",
       "  'md5': '08e2bd33ed44991d02ce9b44d4631464',\n",
       "  'filepath': '/home/joao.pinto/git_repos/maestro/DATA/joao.pinto/datasets/user.joao.pinto.dataset_link3/7.json'}]"
      ]
     },
     "execution_count": 37,
     "metadata": {},
     "output_type": "execute_result"
    }
   ],
   "source": [
    "ds.list()"
   ]
  },
  {
   "cell_type": "code",
   "execution_count": 36,
   "id": "1094d935-7fb6-4354-bec7-fe6368ae93cc",
   "metadata": {},
   "outputs": [
    {
     "name": "stderr",
     "output_type": "stream",
     "text": [
      "downloading files...: 100%|███████████████████████████████████████| 10/10 [00:00<00:00, 2023.59it/s]\n"
     ]
    },
    {
     "data": {
      "text/plain": [
       "True"
      ]
     },
     "execution_count": 36,
     "metadata": {},
     "output_type": "execute_result"
    }
   ],
   "source": [
    "ds.download(\"TEST\", as_link=True)"
   ]
  },
  {
   "cell_type": "code",
   "execution_count": 26,
   "id": "899d1a11-a33e-486d-ad1a-9eb331e8c24a",
   "metadata": {},
   "outputs": [
    {
     "name": "stderr",
     "output_type": "stream",
     "text": [
      "[autoreload of maestro failed: Traceback (most recent call last):\n",
      "  File \"/home/joao.pinto/git_repos/maestro/maestro-env/lib/python3.9/site-packages/IPython/extensions/autoreload.py\", line 276, in check\n",
      "    superreload(m, reload, self.old_objects)\n",
      "  File \"/home/joao.pinto/git_repos/maestro/maestro-env/lib/python3.9/site-packages/IPython/extensions/autoreload.py\", line 500, in superreload\n",
      "    update_generic(old_obj, new_obj)\n",
      "  File \"/home/joao.pinto/git_repos/maestro/maestro-env/lib/python3.9/site-packages/IPython/extensions/autoreload.py\", line 397, in update_generic\n",
      "    update(a, b)\n",
      "  File \"/home/joao.pinto/git_repos/maestro/maestro-env/lib/python3.9/site-packages/IPython/extensions/autoreload.py\", line 335, in update_class\n",
      "    if (old_obj == new_obj) is True:\n",
      "TypeError: __eq__() missing 1 required positional argument: 'b'\n",
      "]\n"
     ]
    }
   ],
   "source": [
    "from maestro.api import Image"
   ]
  },
  {
   "cell_type": "code",
   "execution_count": 27,
   "id": "c38a42b0-19c5-4ec8-8891-c6f720aae90b",
   "metadata": {},
   "outputs": [],
   "source": [
    "image = Image(\"joao.pinto/lorenzetti\", \"/mnt/cern_data/joao.pinto/images/lorenzetti_latest.sif\", as_link=True)"
   ]
  },
  {
   "cell_type": "code",
   "execution_count": 28,
   "id": "03aa36f8-da61-4c26-819a-e5277c8797a2",
   "metadata": {},
   "outputs": [
    {
     "data": {
      "text/plain": [
       "[Dataset(dataset_id='4fb84e29aecd', user_id='8cc1f3ccff47', name='joao.pinto/lorenzetti', description='', files=[{'filename': 'lorenzetti_latest.sif', 'md5': '96636eea12c76fa32ef0182fbac253ed', 'filepath': '/home/joao.pinto/git_repos/maestro/DATA/datasets/joao.pinto/lorenzetti/lorenzetti_latest.sif'}], data_type='image')]"
      ]
     },
     "execution_count": 28,
     "metadata": {},
     "output_type": "execute_result"
    }
   ],
   "source": [
    "client.list_datasets()"
   ]
  },
  {
   "cell_type": "code",
   "execution_count": null,
   "id": "dbe73c76-e593-4e73-8e1a-f1be21cc31aa",
   "metadata": {},
   "outputs": [],
   "source": []
  }
 ],
 "metadata": {
  "kernelspec": {
   "display_name": "Python 3 (ipykernel)",
   "language": "python",
   "name": "python3"
  },
  "language_info": {
   "codemirror_mode": {
    "name": "ipython",
    "version": 3
   },
   "file_extension": ".py",
   "mimetype": "text/x-python",
   "name": "python",
   "nbconvert_exporter": "python",
   "pygments_lexer": "ipython3",
   "version": "3.9.2"
  }
 },
 "nbformat": 4,
 "nbformat_minor": 5
}
